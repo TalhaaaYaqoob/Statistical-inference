{
 "cells": [
  {
   "cell_type": "markdown",
   "metadata": {},
   "source": [
    "# Statistical Inference"
   ]
  },
  {
   "cell_type": "code",
   "execution_count": 2,
   "metadata": {},
   "outputs": [],
   "source": [
    "import numpy as np\n",
    "import random\n",
    "import math\n",
    "from scipy.stats import norm\n",
    "from scipy.stats import binom\n",
    "from scipy.stats import poisson\n",
    "import matplotlib.pyplot as plt\n",
    "import seaborn as sns\n",
    "sns.set()\n",
    "%matplotlib inline"
   ]
  },
  {
   "cell_type": "markdown",
   "metadata": {},
   "source": [
    "## Expected Value"
   ]
  },
  {
   "cell_type": "markdown",
   "metadata": {},
   "source": [
    "Suppose that a die is rolled and X is the number face up. What is the Expected Value of X?"
   ]
  },
  {
   "cell_type": "code",
   "execution_count": 3,
   "metadata": {},
   "outputs": [
    {
     "name": "stdout",
     "output_type": "stream",
     "text": [
      "Expected value of X is 3.5\n"
     ]
    }
   ],
   "source": [
    "x=0\n",
    "for i in range(6):\n",
    "    x=x+((i+1)*(1/6))\n",
    "print('Expected value of X is',x)"
   ]
  },
  {
   "cell_type": "markdown",
   "metadata": {},
   "source": [
    "## Variance"
   ]
  },
  {
   "cell_type": "code",
   "execution_count": 4,
   "metadata": {},
   "outputs": [
    {
     "name": "stdout",
     "output_type": "stream",
     "text": [
      "Variance of random variable is 2.916666666666666\n"
     ]
    }
   ],
   "source": [
    "y=0\n",
    "for i in range(6):\n",
    "    y=y+(((i+1)**2)*(1/6))\n",
    "variance=y-(x**2)\n",
    "print('Variance of random variable is',variance)"
   ]
  },
  {
   "cell_type": "markdown",
   "metadata": {},
   "source": [
    "## Binomial Distribution"
   ]
  },
  {
   "cell_type": "markdown",
   "metadata": {},
   "source": [
    "According to a 2013 Gallup poll, worldwide only 13% of employees are engaged at work (psychologically committed to their jobs and likely to be making positive contributions to their organizations). Among a random sample of 10 employees, what is the probability that 8 of them are engaged at work?"
   ]
  },
  {
   "cell_type": "code",
   "execution_count": 5,
   "metadata": {},
   "outputs": [
    {
     "data": {
      "text/plain": [
       "2.7784196222620523e-06"
      ]
     },
     "execution_count": 5,
     "metadata": {},
     "output_type": "execute_result"
    }
   ],
   "source": [
    "sample_size=10\n",
    "p=0.13\n",
    "k=8\n",
    "binom.pmf(k, sample_size, p)"
   ]
  },
  {
   "cell_type": "markdown",
   "metadata": {},
   "source": [
    "## Normal Distribution"
   ]
  },
  {
   "cell_type": "markdown",
   "metadata": {},
   "source": [
    "Suppose weights of checked baggage of airline passengers follow a nearly normal distribution with mean 45 pounds and standard deviation 3.2 pounds. Most airlines charge a fee for baggae that weigh in excess of 50 pounds.\n",
    "\n",
    "What percent of airline passengers are expected to incur this fee?"
   ]
  },
  {
   "cell_type": "code",
   "execution_count": 6,
   "metadata": {},
   "outputs": [
    {
     "data": {
      "text/plain": [
       "0.059085122932667544"
      ]
     },
     "execution_count": 6,
     "metadata": {},
     "output_type": "execute_result"
    }
   ],
   "source": [
    "baggage=50\n",
    "mean=45\n",
    "std=3.2\n",
    "1-norm.cdf(baggage,mean,std)"
   ]
  },
  {
   "cell_type": "markdown",
   "metadata": {},
   "source": [
    "The average daily high temperature in june in LA is 77 F with a standard deviation of 5 F. Suppose that the temperature in June closely follow a normal distribution.\n",
    "How cold are the coldest 20% of the days during June in LA?"
   ]
  },
  {
   "cell_type": "code",
   "execution_count": 7,
   "metadata": {},
   "outputs": [
    {
     "data": {
      "text/plain": [
       "72.79189383213543"
      ]
     },
     "execution_count": 7,
     "metadata": {},
     "output_type": "execute_result"
    }
   ],
   "source": [
    "coldest_days=0.20\n",
    "mean=77\n",
    "std=5\n",
    "norm.ppf(coldest_days,mean,std)"
   ]
  },
  {
   "cell_type": "markdown",
   "metadata": {},
   "source": [
    "## Poisson Distribution"
   ]
  },
  {
   "cell_type": "markdown",
   "metadata": {},
   "source": [
    "We flip a coin with success probability 0.01 five hundred times. What’s the probability of 2 or fewer successes?"
   ]
  },
  {
   "cell_type": "code",
   "execution_count": 8,
   "metadata": {},
   "outputs": [
    {
     "data": {
      "text/plain": [
       "0.12465201948308108"
      ]
     },
     "execution_count": 8,
     "metadata": {},
     "output_type": "execute_result"
    }
   ],
   "source": [
    "k=2\n",
    "prob_sucess=500*0.01\n",
    "poisson.cdf(k,prob_sucess)"
   ]
  },
  {
   "cell_type": "markdown",
   "metadata": {},
   "source": [
    "The number of people that show up at a bus stop is Poisson with a mean of 2.5 per hour. If watching the bus stop for 4 hours, what is the probability that 3 or fewer people show up for the whole time?"
   ]
  },
  {
   "cell_type": "code",
   "execution_count": 9,
   "metadata": {},
   "outputs": [
    {
     "data": {
      "text/plain": [
       "0.010336050675925726"
      ]
     },
     "execution_count": 9,
     "metadata": {},
     "output_type": "execute_result"
    }
   ],
   "source": [
    "k=3\n",
    "p=2.5*4\n",
    "poisson.cdf(k,p)"
   ]
  },
  {
   "cell_type": "markdown",
   "metadata": {},
   "source": [
    "## Central Limit Theorem and Sampling"
   ]
  },
  {
   "cell_type": "markdown",
   "metadata": {},
   "source": [
    "### Normal Distribution"
   ]
  },
  {
   "cell_type": "code",
   "execution_count": 10,
   "metadata": {},
   "outputs": [
    {
     "name": "stdout",
     "output_type": "stream",
     "text": [
      "Population Mean:-0.011409008247320997\n",
      "Population SD:1.9885073887286857\n"
     ]
    },
    {
     "data": {
      "text/plain": [
       "<matplotlib.axes._subplots.AxesSubplot at 0x23d32b02630>"
      ]
     },
     "execution_count": 10,
     "metadata": {},
     "output_type": "execute_result"
    },
    {
     "data": {
      "image/png": "[encoded data removed]",
      "text/plain": [
       "<matplotlib.figure.Figure at 0x23d32ce7f60>"
      ]
     },
     "metadata": {},
     "output_type": "display_data"
    }
   ],
   "source": [
    "s = np.random.normal(0, 2, 10000)\n",
    "print(\"Population Mean:\"+str(np.mean(s)))\n",
    "print(\"Population SD:\"+str(np.std(s)))\n",
    "sns.set_context(\"poster\")\n",
    "sns.distplot(s)"
   ]
  },
  {
   "cell_type": "code",
   "execution_count": 11,
   "metadata": {},
   "outputs": [
    {
     "name": "stdout",
     "output_type": "stream",
     "text": [
      "Point Estimate:-0.01562924659016618\n",
      "Standard Error:0.36305011752413174\n"
     ]
    },
    {
     "data": {
      "image/png": "[encoded data removed]",
      "text/plain": [
       "<matplotlib.figure.Figure at 0x23d32b84588>"
      ]
     },
     "metadata": {},
     "output_type": "display_data"
    }
   ],
   "source": [
    "sample_size=30\n",
    "samples = [ np.mean(random.choices(s, k=sample_size)) for _ in range(10000) ]\n",
    "print(\"Point Estimate:\"+str(np.mean(samples)))\n",
    "print(\"Standard Error:\"+str(np.std(s)/math.sqrt(sample_size)))\n",
    "sns.distplot(samples)\n",
    "plt.show()"
   ]
  },
  {
   "cell_type": "markdown",
   "metadata": {},
   "source": [
    "### Skewed Distribution"
   ]
  },
  {
   "cell_type": "code",
   "execution_count": 12,
   "metadata": {},
   "outputs": [
    {
     "name": "stdout",
     "output_type": "stream",
     "text": [
      "Population Mean:7.916584426832753\n",
      "Population SD:5.606305725616103\n"
     ]
    },
    {
     "data": {
      "text/plain": [
       "<matplotlib.axes._subplots.AxesSubplot at 0x23d32cf95f8>"
      ]
     },
     "execution_count": 12,
     "metadata": {},
     "output_type": "execute_result"
    },
    {
     "data": {
      "image/png": "[encoded data removed]",
      "text/plain": [
       "<matplotlib.figure.Figure at 0x23d32bcc860>"
      ]
     },
     "metadata": {},
     "output_type": "display_data"
    }
   ],
   "source": [
    "s = np.random.gamma(2,4,10000)\n",
    "print(\"Population Mean:\"+str(np.mean(s)))\n",
    "print(\"Population SD:\"+str(np.std(s)))\n",
    "sns.distplot(s)"
   ]
  },
  {
   "cell_type": "code",
   "execution_count": 13,
   "metadata": {
    "scrolled": false
   },
   "outputs": [
    {
     "name": "stdout",
     "output_type": "stream",
     "text": [
      "Point Estimate:7.8969019325168\n",
      "Standard Error:1.0235667033967693\n"
     ]
    },
    {
     "data": {
      "image/png": "[encoded data removed]",
      "text/plain": [
       "<matplotlib.figure.Figure at 0x23d330b7400>"
      ]
     },
     "metadata": {},
     "output_type": "display_data"
    }
   ],
   "source": [
    "sample_size=30\n",
    "samples = [ np.mean(random.choices(s, k=sample_size)) for _ in range(10000) ]\n",
    "print(\"Point Estimate:\"+str(np.mean(samples)))\n",
    "print(\"Standard Error:\"+str(np.std(s)/math.sqrt(sample_size)))\n",
    "sns.distplot(samples)\n",
    "plt.show()"
   ]
  },
  {
   "cell_type": "markdown",
   "metadata": {},
   "source": [
    "### Uniform Distribution"
   ]
  },
  {
   "cell_type": "code",
   "execution_count": 14,
   "metadata": {},
   "outputs": [
    {
     "name": "stdout",
     "output_type": "stream",
     "text": [
      "Population Mean:5.009053498534228\n",
      "Population SD:2.892000864988378\n"
     ]
    },
    {
     "data": {
      "text/plain": [
       "<matplotlib.axes._subplots.AxesSubplot at 0x23d331599b0>"
      ]
     },
     "execution_count": 14,
     "metadata": {},
     "output_type": "execute_result"
    },
    {
     "data": {
      "image/png": "[encoded data removed]",
      "text/plain": [
       "<matplotlib.figure.Figure at 0x23d33079e80>"
      ]
     },
     "metadata": {},
     "output_type": "display_data"
    }
   ],
   "source": [
    "s = np.random.uniform(0,10,10000)\n",
    "print(\"Population Mean:\"+str(np.mean(s)))\n",
    "print(\"Population SD:\"+str(np.std(s)))\n",
    "sns.distplot(s)"
   ]
  },
  {
   "cell_type": "code",
   "execution_count": 15,
   "metadata": {},
   "outputs": [
    {
     "name": "stdout",
     "output_type": "stream",
     "text": [
      "Point Estimate:5.008528763763656\n",
      "Standard Error:0.528004703359529\n"
     ]
    },
    {
     "data": {
      "image/png": "[encoded data removed]",
      "text/plain": [
       "<matplotlib.figure.Figure at 0x23d33210780>"
      ]
     },
     "metadata": {},
     "output_type": "display_data"
    }
   ],
   "source": [
    "sample_size=30\n",
    "samples = [ np.mean(random.choices(s, k=sample_size)) for _ in range(10000) ]\n",
    "print(\"Point Estimate:\"+str(np.mean(samples)))\n",
    "print(\"Standard Error:\"+str(np.std(s)/math.sqrt(sample_size)))\n",
    "sns.distplot(samples)\n",
    "plt.show()"
   ]
  },
  {
   "cell_type": "markdown",
   "metadata": {},
   "source": [
    "### Example 1"
   ]
  },
  {
   "cell_type": "code",
   "execution_count": 16,
   "metadata": {},
   "outputs": [],
   "source": [
    "import pandas as pd\n",
    "data=pd.read_csv('music.csv')\n",
    "music=data.copy()"
   ]
  },
  {
   "cell_type": "code",
   "execution_count": 17,
   "metadata": {},
   "outputs": [],
   "source": [
    "music['duration_min']=music['duration']/60"
   ]
  },
  {
   "cell_type": "markdown",
   "metadata": {},
   "source": [
    "Suppose my IPod has 10000 songs. The histogram below shows the distribution of the lengths of these songs. We also know that  for this IPod the mean length is 3.86 minutes and the standard deviation is 1.49. "
   ]
  },
  {
   "cell_type": "code",
   "execution_count": 18,
   "metadata": {
    "scrolled": false
   },
   "outputs": [
    {
     "data": {
      "text/plain": [
       "<matplotlib.axes._subplots.AxesSubplot at 0x23d33c0fb38>"
      ]
     },
     "execution_count": 18,
     "metadata": {},
     "output_type": "execute_result"
    },
    {
     "data": {
      "image/png": "[encoded data removed]",
      "text/plain": [
       "<matplotlib.figure.Figure at 0x23d33a20ac8>"
      ]
     },
     "metadata": {},
     "output_type": "display_data"
    }
   ],
   "source": [
    "sns.distplot(music['duration_min'],bins=10)"
   ]
  },
  {
   "cell_type": "markdown",
   "metadata": {},
   "source": [
    "Calculate the probabilty that a randomly selected song lasts more than 5 minutes."
   ]
  },
  {
   "cell_type": "code",
   "execution_count": 19,
   "metadata": {},
   "outputs": [],
   "source": [
    "music_duration_min=music['duration_min'].values\n",
    "music_greater5=music_duration_min>5"
   ]
  },
  {
   "cell_type": "code",
   "execution_count": 20,
   "metadata": {},
   "outputs": [
    {
     "data": {
      "text/plain": [
       "0.1701"
      ]
     },
     "execution_count": 20,
     "metadata": {},
     "output_type": "execute_result"
    }
   ],
   "source": [
    "p_music_greater5=(np.sum(music_greater5))/10000\n",
    "p_music_greater5"
   ]
  },
  {
   "cell_type": "markdown",
   "metadata": {},
   "source": [
    "#### Why didn't we apply techniques of Normal Distribution?\n",
    "\n"
   ]
  },
  {
   "cell_type": "markdown",
   "metadata": {},
   "source": [
    "### Example 2"
   ]
  },
  {
   "cell_type": "markdown",
   "metadata": {},
   "source": [
    "I'm about to take trip to visit my parents and the drive is 6.5 hours. I make a random playlist of 200 songs. \n",
    "\n",
    "What is the probability that my playlist lasts the entire drive?"
   ]
  },
  {
   "cell_type": "markdown",
   "metadata": {},
   "source": [
    "* So 6.5 hours = 390 minutes\n",
    "* P(X1+X2+X3+.....+X200 > 390 minutes) = ?\n",
    "* P(x > 3.9) = ?           \n",
    "* x is the mean of sampling distributon"
   ]
  },
  {
   "cell_type": "code",
   "execution_count": 21,
   "metadata": {},
   "outputs": [
    {
     "data": {
      "text/plain": [
       "<matplotlib.collections.LineCollection at 0x23d332b1940>"
      ]
     },
     "execution_count": 21,
     "metadata": {},
     "output_type": "execute_result"
    },
    {
     "data": {
      "image/png": "[encoded data removed]",
      "text/plain": [
       "<matplotlib.figure.Figure at 0x23d33bda7b8>"
      ]
     },
     "metadata": {},
     "output_type": "display_data"
    }
   ],
   "source": [
    "random_songs = [ np.mean(random.choices(music['duration_min'], k=200)) for _ in range(1000) ]\n",
    "sns.distplot(random_songs,hist=False)\n",
    "plt.vlines(np.mean(music['duration_min']),colors='red',ymin=0,ymax=4)\n",
    "plt.vlines(3.9,colors='green',ymin=0,ymax=4)"
   ]
  },
  {
   "cell_type": "markdown",
   "metadata": {},
   "source": [
    "Let's consider if sampling distribution is normal then population mean and point estimate are same"
   ]
  },
  {
   "cell_type": "markdown",
   "metadata": {},
   "source": [
    "Calculating Standard Error (SE):"
   ]
  },
  {
   "cell_type": "code",
   "execution_count": 22,
   "metadata": {},
   "outputs": [
    {
     "data": {
      "text/plain": [
       "0.10534019582095491"
      ]
     },
     "execution_count": 22,
     "metadata": {},
     "output_type": "execute_result"
    }
   ],
   "source": [
    "SE=(np.std(music['duration_min']))/((200)**(0.5))\n",
    "SE"
   ]
  },
  {
   "cell_type": "code",
   "execution_count": 23,
   "metadata": {},
   "outputs": [
    {
     "data": {
      "text/plain": [
       "0.37172700010818965"
      ]
     },
     "execution_count": 23,
     "metadata": {},
     "output_type": "execute_result"
    }
   ],
   "source": [
    "Z = (3.9-np.mean(music['duration_min']))/SE\n",
    "Z"
   ]
  },
  {
   "cell_type": "code",
   "execution_count": 24,
   "metadata": {},
   "outputs": [
    {
     "data": {
      "text/plain": [
       "0.6282729998918104"
      ]
     },
     "execution_count": 24,
     "metadata": {},
     "output_type": "execute_result"
    }
   ],
   "source": [
    "p = 1-Z\n",
    "p"
   ]
  },
  {
   "cell_type": "markdown",
   "metadata": {},
   "source": [
    "## Confidence Interval"
   ]
  },
  {
   "cell_type": "markdown",
   "metadata": {},
   "source": [
    "Let's create population from \"music\" dataset"
   ]
  },
  {
   "cell_type": "code",
   "execution_count": 25,
   "metadata": {},
   "outputs": [
    {
     "data": {
      "text/html": [
       "<div>\n",
       "<style scoped>\n",
       "    .dataframe tbody tr th:only-of-type {\n",
       "        vertical-align: middle;\n",
       "    }\n",
       "\n",
       "    .dataframe tbody tr th {\n",
       "        vertical-align: top;\n",
       "    }\n",
       "\n",
       "    .dataframe thead th {\n",
       "        text-align: right;\n",
       "    }\n",
       "</style>\n",
       "<table border=\"1\" class=\"dataframe\">\n",
       "  <thead>\n",
       "    <tr style=\"text-align: right;\">\n",
       "      <th></th>\n",
       "      <th>artist.hotttnesss</th>\n",
       "      <th>artist.id</th>\n",
       "      <th>artist.name</th>\n",
       "      <th>artist_mbtags</th>\n",
       "      <th>artist_mbtags_count</th>\n",
       "      <th>bars_confidence</th>\n",
       "      <th>bars_start</th>\n",
       "      <th>beats_confidence</th>\n",
       "      <th>beats_start</th>\n",
       "      <th>duration</th>\n",
       "      <th>...</th>\n",
       "      <th>tatums_confidence</th>\n",
       "      <th>tatums_start</th>\n",
       "      <th>tempo</th>\n",
       "      <th>terms</th>\n",
       "      <th>terms_freq</th>\n",
       "      <th>time_signature</th>\n",
       "      <th>time_signature_confidence</th>\n",
       "      <th>title</th>\n",
       "      <th>year</th>\n",
       "      <th>duration_min</th>\n",
       "    </tr>\n",
       "  </thead>\n",
       "  <tbody>\n",
       "    <tr>\n",
       "      <th>0</th>\n",
       "      <td>0.401998</td>\n",
       "      <td>ARD7TVE1187B99BFB1</td>\n",
       "      <td>Casual</td>\n",
       "      <td>NaN</td>\n",
       "      <td>0</td>\n",
       "      <td>0.643</td>\n",
       "      <td>0.58521</td>\n",
       "      <td>0.834</td>\n",
       "      <td>0.58521</td>\n",
       "      <td>218.93179</td>\n",
       "      <td>...</td>\n",
       "      <td>0.779</td>\n",
       "      <td>0.28519</td>\n",
       "      <td>92.198</td>\n",
       "      <td>hip hop</td>\n",
       "      <td>1.000000</td>\n",
       "      <td>4</td>\n",
       "      <td>0.778</td>\n",
       "      <td>I Didn't Mean To</td>\n",
       "      <td>0</td>\n",
       "      <td>3.648863</td>\n",
       "    </tr>\n",
       "    <tr>\n",
       "      <th>1</th>\n",
       "      <td>0.417500</td>\n",
       "      <td>ARMJAGH1187FB546F3</td>\n",
       "      <td>The Box Tops</td>\n",
       "      <td>classic pop and rock</td>\n",
       "      <td>1</td>\n",
       "      <td>0.007</td>\n",
       "      <td>0.71054</td>\n",
       "      <td>1.000</td>\n",
       "      <td>0.20627</td>\n",
       "      <td>148.03546</td>\n",
       "      <td>...</td>\n",
       "      <td>0.969</td>\n",
       "      <td>0.20627</td>\n",
       "      <td>121.274</td>\n",
       "      <td>blue-eyed soul</td>\n",
       "      <td>1.000000</td>\n",
       "      <td>4</td>\n",
       "      <td>0.384</td>\n",
       "      <td>Soul Deep</td>\n",
       "      <td>1969</td>\n",
       "      <td>2.467258</td>\n",
       "    </tr>\n",
       "    <tr>\n",
       "      <th>2</th>\n",
       "      <td>0.343428</td>\n",
       "      <td>ARKRRTF1187B9984DA</td>\n",
       "      <td>Sonora Santanera</td>\n",
       "      <td>NaN</td>\n",
       "      <td>0</td>\n",
       "      <td>0.980</td>\n",
       "      <td>0.73152</td>\n",
       "      <td>0.980</td>\n",
       "      <td>0.73152</td>\n",
       "      <td>177.47546</td>\n",
       "      <td>...</td>\n",
       "      <td>0.482</td>\n",
       "      <td>0.42132</td>\n",
       "      <td>100.070</td>\n",
       "      <td>salsa</td>\n",
       "      <td>1.000000</td>\n",
       "      <td>1</td>\n",
       "      <td>0.000</td>\n",
       "      <td>Amor De Cabaret</td>\n",
       "      <td>0</td>\n",
       "      <td>2.957924</td>\n",
       "    </tr>\n",
       "    <tr>\n",
       "      <th>3</th>\n",
       "      <td>0.454231</td>\n",
       "      <td>AR7G5I41187FB4CE6C</td>\n",
       "      <td>Adam Ant</td>\n",
       "      <td>uk</td>\n",
       "      <td>1</td>\n",
       "      <td>0.017</td>\n",
       "      <td>1.30621</td>\n",
       "      <td>0.809</td>\n",
       "      <td>0.81002</td>\n",
       "      <td>233.40363</td>\n",
       "      <td>...</td>\n",
       "      <td>0.601</td>\n",
       "      <td>0.56254</td>\n",
       "      <td>119.293</td>\n",
       "      <td>pop rock</td>\n",
       "      <td>0.988584</td>\n",
       "      <td>4</td>\n",
       "      <td>0.000</td>\n",
       "      <td>Something Girls</td>\n",
       "      <td>1982</td>\n",
       "      <td>3.890060</td>\n",
       "    </tr>\n",
       "    <tr>\n",
       "      <th>4</th>\n",
       "      <td>0.401724</td>\n",
       "      <td>ARXR32B1187FB57099</td>\n",
       "      <td>Gob</td>\n",
       "      <td>NaN</td>\n",
       "      <td>0</td>\n",
       "      <td>0.175</td>\n",
       "      <td>1.06368</td>\n",
       "      <td>0.883</td>\n",
       "      <td>0.13576</td>\n",
       "      <td>209.60608</td>\n",
       "      <td>...</td>\n",
       "      <td>1.000</td>\n",
       "      <td>0.13576</td>\n",
       "      <td>129.738</td>\n",
       "      <td>pop punk</td>\n",
       "      <td>0.887288</td>\n",
       "      <td>4</td>\n",
       "      <td>0.562</td>\n",
       "      <td>Face the Ashes</td>\n",
       "      <td>2007</td>\n",
       "      <td>3.493435</td>\n",
       "    </tr>\n",
       "  </tbody>\n",
       "</table>\n",
       "<p>5 rows × 36 columns</p>\n",
       "</div>"
      ],
      "text/plain": [
       "   artist.hotttnesss           artist.id       artist.name  \\\n",
       "0           0.401998  ARD7TVE1187B99BFB1            Casual   \n",
       "1           0.417500  ARMJAGH1187FB546F3      The Box Tops   \n",
       "2           0.343428  ARKRRTF1187B9984DA  Sonora Santanera   \n",
       "3           0.454231  AR7G5I41187FB4CE6C          Adam Ant   \n",
       "4           0.401724  ARXR32B1187FB57099               Gob   \n",
       "\n",
       "          artist_mbtags  artist_mbtags_count  bars_confidence  bars_start  \\\n",
       "0                   NaN                    0            0.643     0.58521   \n",
       "1  classic pop and rock                    1            0.007     0.71054   \n",
       "2                   NaN                    0            0.980     0.73152   \n",
       "3                    uk                    1            0.017     1.30621   \n",
       "4                   NaN                    0            0.175     1.06368   \n",
       "\n",
       "   beats_confidence  beats_start   duration      ...       tatums_confidence  \\\n",
       "0             0.834      0.58521  218.93179      ...                   0.779   \n",
       "1             1.000      0.20627  148.03546      ...                   0.969   \n",
       "2             0.980      0.73152  177.47546      ...                   0.482   \n",
       "3             0.809      0.81002  233.40363      ...                   0.601   \n",
       "4             0.883      0.13576  209.60608      ...                   1.000   \n",
       "\n",
       "   tatums_start    tempo           terms  terms_freq time_signature  \\\n",
       "0       0.28519   92.198         hip hop    1.000000              4   \n",
       "1       0.20627  121.274  blue-eyed soul    1.000000              4   \n",
       "2       0.42132  100.070           salsa    1.000000              1   \n",
       "3       0.56254  119.293        pop rock    0.988584              4   \n",
       "4       0.13576  129.738        pop punk    0.887288              4   \n",
       "\n",
       "   time_signature_confidence             title  year  duration_min  \n",
       "0                      0.778  I Didn't Mean To     0      3.648863  \n",
       "1                      0.384         Soul Deep  1969      2.467258  \n",
       "2                      0.000   Amor De Cabaret     0      2.957924  \n",
       "3                      0.000   Something Girls  1982      3.890060  \n",
       "4                      0.562    Face the Ashes  2007      3.493435  \n",
       "\n",
       "[5 rows x 36 columns]"
      ]
     },
     "execution_count": 25,
     "metadata": {},
     "output_type": "execute_result"
    }
   ],
   "source": [
    "population_songs = music.copy()\n",
    "population_songs.head()"
   ]
  },
  {
   "cell_type": "markdown",
   "metadata": {},
   "source": [
    "Let's calculate a 95% confidence for our mean point estimate:"
   ]
  },
  {
   "cell_type": "code",
   "execution_count": 26,
   "metadata": {},
   "outputs": [],
   "source": [
    "sample_size=200\n",
    "sample_means =np.mean(random.choices(population_songs['duration_min'], k=sample_size))"
   ]
  },
  {
   "cell_type": "code",
   "execution_count": 27,
   "metadata": {},
   "outputs": [],
   "source": [
    "# Get the z-critical value*\n",
    "z_critical = norm.ppf(0.025)"
   ]
  },
  {
   "cell_type": "code",
   "execution_count": 28,
   "metadata": {
    "scrolled": true
   },
   "outputs": [
    {
     "name": "stdout",
     "output_type": "stream",
     "text": [
      "z-critical value:\n",
      "-1.9599639845400545\n",
      "Confidence interval:\n",
      "(4.114811353266802, 3.701885373399865)\n",
      "Population Mean:\n",
      "3.860842205016667\n"
     ]
    }
   ],
   "source": [
    "print(\"z-critical value:\")              # Check the z-critical value\n",
    "print(z_critical)                        \n",
    "\n",
    "pop_stdev = np.std(population_songs['duration_min'])  # Get the population standard deviation\n",
    "\n",
    "margin_of_error = z_critical * (pop_stdev/math.sqrt(sample_size))\n",
    "\n",
    "confidence_interval = (sample_means - margin_of_error,\n",
    "                       sample_means + margin_of_error)  \n",
    "\n",
    "print(\"Confidence interval:\")\n",
    "print(confidence_interval)\n",
    "print(\"Population Mean:\")\n",
    "print(np.mean(population_songs['duration_min']))"
   ]
  },
  {
   "cell_type": "markdown",
   "metadata": {},
   "source": [
    "Notice that the confidence interval we calculated captures the true population mean"
   ]
  },
  {
   "cell_type": "markdown",
   "metadata": {},
   "source": [
    "Let's create several confidence intervals and plot them to get a better sense of what it means to \"capture\" the true mean:"
   ]
  },
  {
   "cell_type": "code",
   "execution_count": 29,
   "metadata": {},
   "outputs": [],
   "source": [
    "sample_size = 200\n",
    "\n",
    "intervals = []\n",
    "sample_means = []\n",
    "\n",
    "for i in range(25):\n",
    "    sample_mean =np.mean(random.choices(population_songs['duration_min'], k=sample_size))\n",
    "    sample_means.append(sample_mean)\n",
    "    z_critical = norm.ppf(0.025)\n",
    "    pop_stdev = np.std(population_songs['duration_min'])  \n",
    "    margin_of_error = z_critical * (pop_stdev/math.sqrt(sample_size))\n",
    "    confidence_interval = (sample_means - margin_of_error,sample_means + margin_of_error)     \n",
    "    intervals.append(confidence_interval)"
   ]
  },
  {
   "cell_type": "code",
   "execution_count": 30,
   "metadata": {},
   "outputs": [],
   "source": [
    "err_list=[]\n",
    "for top,bot in intervals:\n",
    "    err=(top-bot)/2\n",
    "    err_list.append(err)"
   ]
  },
  {
   "cell_type": "code",
   "execution_count": 31,
   "metadata": {},
   "outputs": [
    {
     "data": {
      "text/plain": [
       "25"
      ]
     },
     "execution_count": 31,
     "metadata": {},
     "output_type": "execute_result"
    }
   ],
   "source": [
    "len(err_list[24])"
   ]
  },
  {
   "cell_type": "code",
   "execution_count": 32,
   "metadata": {},
   "outputs": [
    {
     "data": {
      "text/plain": [
       "<matplotlib.collections.LineCollection at 0x23d332d82b0>"
      ]
     },
     "execution_count": 32,
     "metadata": {},
     "output_type": "execute_result"
    },
    {
     "data": {
      "image/png": "[encoded data removed]",
      "text/plain": [
       "<matplotlib.figure.Figure at 0x23d33be9d30>"
      ]
     },
     "metadata": {},
     "output_type": "display_data"
    }
   ],
   "source": [
    "plt.figure(figsize=(8,8))\n",
    "\n",
    "plt.errorbar(x=np.arange(0.1, 25, 1), \n",
    "             y=sample_means, \n",
    "             yerr=err_list[24],\n",
    "             fmt='o')\n",
    "\n",
    "plt.hlines(xmin=0, xmax=25,\n",
    "           y=3.861, \n",
    "           linewidth=2.0,\n",
    "           color=\"red\")"
   ]
  },
  {
   "cell_type": "markdown",
   "metadata": {},
   "source": [
    "### Example 1"
   ]
  },
  {
   "cell_type": "markdown",
   "metadata": {},
   "source": [
    "A sample of **50 college students** were asked how many exlusive relationships they've been in so far. The students in the sample had an **average of 3.2** exclusive relationships, with a **standard deviation of 1.74**. In addition, the sample distribution was only slighly skewed to the right. Estimate the true average number of exclusive relationships based on this sample using a 95% confidence interval."
   ]
  },
  {
   "cell_type": "code",
   "execution_count": 33,
   "metadata": {},
   "outputs": [],
   "source": [
    "n=50\n",
    "sample_mean=3.2\n",
    "s=1.74"
   ]
  },
  {
   "cell_type": "code",
   "execution_count": 34,
   "metadata": {},
   "outputs": [
    {
     "data": {
      "text/plain": [
       "0.24607315985291853"
      ]
     },
     "execution_count": 34,
     "metadata": {},
     "output_type": "execute_result"
    }
   ],
   "source": [
    "SE = 1.74/math.sqrt(n)\n",
    "SE"
   ]
  },
  {
   "cell_type": "code",
   "execution_count": 35,
   "metadata": {},
   "outputs": [
    {
     "data": {
      "text/plain": [
       "-1.9599639845400545"
      ]
     },
     "execution_count": 35,
     "metadata": {},
     "output_type": "execute_result"
    }
   ],
   "source": [
    "z_critical=norm.ppf(0.025)\n",
    "z_critical"
   ]
  },
  {
   "cell_type": "code",
   "execution_count": 36,
   "metadata": {},
   "outputs": [
    {
     "data": {
      "text/plain": [
       "(2.717705469126312, 3.6822945308736883)"
      ]
     },
     "execution_count": 36,
     "metadata": {},
     "output_type": "execute_result"
    }
   ],
   "source": [
    "(sample_mean+z_critical*SE,sample_mean-z_critical*SE)"
   ]
  },
  {
   "cell_type": "markdown",
   "metadata": {},
   "source": [
    "We are 95% confident that the college students on average have been in 2.72 to 3.68 exclusive relationships"
   ]
  },
  {
   "cell_type": "markdown",
   "metadata": {},
   "source": [
    "### Example 2"
   ]
  },
  {
   "cell_type": "markdown",
   "metadata": {},
   "source": [
    "A group of reseachers want to test the possible effect of an epilepsy medication taken by pregnant mothers on the cognitive development of their children. As evidence, the want to estimate the IQ score of three-year-old children born to mothers who were on this medication during pregnancy"
   ]
  },
  {
   "cell_type": "markdown",
   "metadata": {},
   "source": [
    "Previous studies suggest that the **SD of IQ Scores of three year old children is 18 points**. "
   ]
  },
  {
   "cell_type": "markdown",
   "metadata": {},
   "source": [
    "How many such children should the researhers sample in order to obtain a **90% cofidence interval** with a **margin error less than or equal to 4**."
   ]
  },
  {
   "cell_type": "code",
   "execution_count": 37,
   "metadata": {},
   "outputs": [],
   "source": [
    "#CI=90%\n",
    "ME=4\n",
    "z_critical=abs(norm.ppf(0.05))\n",
    "std=18"
   ]
  },
  {
   "cell_type": "code",
   "execution_count": 38,
   "metadata": {},
   "outputs": [
    {
     "data": {
      "text/plain": [
       "1.6448536269514729"
      ]
     },
     "execution_count": 38,
     "metadata": {},
     "output_type": "execute_result"
    }
   ],
   "source": [
    "z_critical"
   ]
  },
  {
   "cell_type": "code",
   "execution_count": 39,
   "metadata": {},
   "outputs": [
    {
     "data": {
      "text/plain": [
       "54.78725494543216"
      ]
     },
     "execution_count": 39,
     "metadata": {},
     "output_type": "execute_result"
    }
   ],
   "source": [
    "n=((z_critical*std)/ME)**2\n",
    "n"
   ]
  },
  {
   "cell_type": "markdown",
   "metadata": {},
   "source": [
    "We need at least 55 such children in the sample obtain a margin error of 4 points"
   ]
  },
  {
   "cell_type": "markdown",
   "metadata": {},
   "source": [
    "We found that we needed at least 55 children in the sample to achieve a maximum margin of error of 4 points. How would the required size change if we want to futher decrease the margin of error to 2 points?"
   ]
  },
  {
   "cell_type": "code",
   "execution_count": 40,
   "metadata": {},
   "outputs": [
    {
     "data": {
      "text/plain": [
       "219.14901978172864"
      ]
     },
     "execution_count": 40,
     "metadata": {},
     "output_type": "execute_result"
    }
   ],
   "source": [
    "# 1/2 * ME = z* s/sqrt(n) * 1/2\n",
    "# 1/2 * ME = z* s/sqrt(4n)\n",
    "4*n"
   ]
  },
  {
   "cell_type": "markdown",
   "metadata": {},
   "source": [
    "It's 220 at least"
   ]
  },
  {
   "cell_type": "markdown",
   "metadata": {},
   "source": [
    "# Hypothesis Testing\n"
   ]
  },
  {
   "cell_type": "markdown",
   "metadata": {},
   "source": [
    "## Example 1\n",
    "Researches investigating characteristics of gifted children collected data from schools in a larage city on a random sample of thirty-six children who were identified as gifted children soon after they reached the age of four. In this study, along with variables on the children, the researchers also collected data on their mothers' IQ scores. The histogram shows the distribution of these data, and also provided are some sample statistics."
   ]
  },
  {
   "cell_type": "code",
   "execution_count": 41,
   "metadata": {},
   "outputs": [],
   "source": [
    "n=36\n",
    "min_=101\n",
    "mean=118.2\n",
    "sd=6.5\n",
    "max_=131\n"
   ]
  },
  {
   "cell_type": "markdown",
   "metadata": {},
   "source": [
    "Perform a hypothesis test to evaluate if these data provide convincing evidence of a difference between the average IQ score of mothers of gifted children and the average IQ score for the population at large, which is 100. Use a significance level of 0.01"
   ]
  },
  {
   "cell_type": "markdown",
   "metadata": {},
   "source": [
    "u0=100\n",
    "ua != 100"
   ]
  },
  {
   "cell_type": "markdown",
   "metadata": {},
   "source": [
    "Calculate the point estimate"
   ]
  },
  {
   "cell_type": "code",
   "execution_count": 3,
   "metadata": {},
   "outputs": [
    {
     "data": {
      "text/plain": [
       "118.2"
      ]
     },
     "execution_count": 3,
     "metadata": {},
     "output_type": "execute_result"
    }
   ],
   "source": [
    "mean"
   ]
  },
  {
   "cell_type": "markdown",
   "metadata": {},
   "source": [
    "Check conditions\n",
    "* random & 36 < 10% of all gifted children -> independence\n",
    "* n>30 & sample not skewed -> nearly normal sampling distribution"
   ]
  },
  {
   "cell_type": "code",
   "execution_count": 4,
   "metadata": {},
   "outputs": [
    {
     "data": {
      "text/plain": [
       "1.0833333333333333"
      ]
     },
     "execution_count": 4,
     "metadata": {},
     "output_type": "execute_result"
    }
   ],
   "source": [
    "import math as mt\n",
    "X=sd/mt.sqrt(n)\n",
    "X"
   ]
  },
  {
   "cell_type": "markdown",
   "metadata": {},
   "source": [
    "Calculate test statistic"
   ]
  },
  {
   "cell_type": "code",
   "execution_count": 6,
   "metadata": {},
   "outputs": [],
   "source": [
    "u0=100\n",
    "Z=(mean-u0)/X"
   ]
  },
  {
   "cell_type": "code",
   "execution_count": 7,
   "metadata": {},
   "outputs": [
    {
     "data": {
      "text/plain": [
       "16.800000000000004"
      ]
     },
     "execution_count": 7,
     "metadata": {},
     "output_type": "execute_result"
    }
   ],
   "source": [
    "Z"
   ]
  },
  {
   "cell_type": "code",
   "execution_count": 8,
   "metadata": {},
   "outputs": [],
   "source": [
    "import scipy.stats\n",
    "p_values = scipy.stats.norm.sf(abs(Z))"
   ]
  },
  {
   "cell_type": "code",
   "execution_count": 9,
   "metadata": {},
   "outputs": [
    {
     "data": {
      "text/plain": [
       "1.2202200405975265e-63"
      ]
     },
     "execution_count": 9,
     "metadata": {},
     "output_type": "execute_result"
    }
   ],
   "source": [
    "p_values"
   ]
  },
  {
   "cell_type": "markdown",
   "metadata": {},
   "source": [
    "#### Make a decision, and interpret it in context of the research question."
   ]
  },
  {
   "cell_type": "markdown",
   "metadata": {},
   "source": [
    "p-value is very low -> strong evidence against the null\n",
    "\n",
    "We reject the null hypothesis and conclude that the data provide convincing evidence of a difference between the average IQ score of mothers of gifted children and the average IQ score for the population at large."
   ]
  },
  {
   "cell_type": "markdown",
   "metadata": {},
   "source": [
    "## Example 2\n",
    "\n",
    "A statistics student interested in sleep habits of domestic cats took a random sample of 144 cats and monitored their sleep. _The cats slept an average of 16 hours/day_. According to online resources _domestic dogs sleep, on average, 14 hours a day_. We want to find out if these data provide convincing evidence of different sleeping habits for domestic cats and dogs with respect to how much they sleep. The test statistic is 1.73."
   ]
  },
  {
   "cell_type": "code",
   "execution_count": 10,
   "metadata": {},
   "outputs": [],
   "source": [
    "x=16\n",
    "U0=14"
   ]
  },
  {
   "cell_type": "code",
   "execution_count": 11,
   "metadata": {},
   "outputs": [],
   "source": [
    "#calculate P-Value\n",
    "Z=1.73\n",
    "p_values = scipy.stats.norm.sf(abs(Z))"
   ]
  },
  {
   "cell_type": "code",
   "execution_count": 12,
   "metadata": {},
   "outputs": [
    {
     "data": {
      "text/plain": [
       "0.04181513761359493"
      ]
     },
     "execution_count": 12,
     "metadata": {},
     "output_type": "execute_result"
    }
   ],
   "source": [
    "p_values"
   ]
  },
  {
   "cell_type": "code",
   "execution_count": 13,
   "metadata": {},
   "outputs": [
    {
     "data": {
      "text/plain": [
       "0.08363027522718985"
      ]
     },
     "execution_count": 13,
     "metadata": {},
     "output_type": "execute_result"
    }
   ],
   "source": [
    "p_values*2"
   ]
  },
  {
   "cell_type": "markdown",
   "metadata": {},
   "source": [
    "#### What is the interpretation of this p-value in context of these data?\n",
    "<br>p(obtaining a random sample of 144 cats that sleep 16 hours or more or 12 hours or less, on average, if in fact cats truly slept 14 hours per day on average) = 0.0836"
   ]
  },
  {
   "cell_type": "markdown",
   "metadata": {},
   "source": [
    "## Inference for other estimators"
   ]
  },
  {
   "cell_type": "markdown",
   "metadata": {},
   "source": [
    "A 2010 Pew Research foundation poll indicates that among 1,099 college graduates, **33% watch The Daily Show (an American late-night TV show)**.\n",
    "**The standard error of this estimate is 0.014.** Estimate the 95% confidence interval for the proportion of college graduates who watch The Daily Show."
   ]
  },
  {
   "cell_type": "code",
   "execution_count": 55,
   "metadata": {},
   "outputs": [
    {
     "data": {
      "text/plain": [
       "1.6448536269514729"
      ]
     },
     "execution_count": 55,
     "metadata": {},
     "output_type": "execute_result"
    }
   ],
   "source": [
    "p_watch=0.33\n",
    "SE=0.014\n",
    "z_critical=abs(norm.ppf(0.05))\n",
    "z_critical"
   ]
  },
  {
   "cell_type": "code",
   "execution_count": 56,
   "metadata": {},
   "outputs": [],
   "source": [
    "interv=z_critical*0.014"
   ]
  },
  {
   "cell_type": "markdown",
   "metadata": {},
   "source": [
    "**Confidence Interval**"
   ]
  },
  {
   "cell_type": "code",
   "execution_count": 57,
   "metadata": {},
   "outputs": [
    {
     "data": {
      "text/plain": [
       "(0.3069720492226794, 0.35302795077732063)"
      ]
     },
     "execution_count": 57,
     "metadata": {},
     "output_type": "execute_result"
    }
   ],
   "source": [
    "(0.33-interv,0.33+interv)"
   ]
  },
  {
   "cell_type": "code",
   "execution_count": null,
   "metadata": {},
   "outputs": [],
   "source": []
  }
 ],
 "metadata": {
  "kernelspec": {
   "display_name": "Python 3",
   "language": "python",
   "name": "python3"
  },
  "language_info": {
   "codemirror_mode": {
    "name": "ipython",
    "version": 3
   },
   "file_extension": ".py",
   "mimetype": "text/x-python",
   "name": "python",
   "nbconvert_exporter": "python",
   "pygments_lexer": "ipython3",
   "version": "3.6.6"
  }
 },
 "nbformat": 4,
 "nbformat_minor": 2
}
